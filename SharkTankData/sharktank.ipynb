{
 "cells": [
  {
   "cell_type": "code",
   "execution_count": 3,
   "id": "c2a38989",
   "metadata": {},
   "outputs": [],
   "source": [
    "import pandas as pd\n",
    "df= pd.read_excel(\"C:/Users/ACER/Desktop/DataAnalyticsProject/SharkTankData/SharkTankIndiaDataset.xlsx\")"
   ]
  },
  {
   "cell_type": "code",
   "execution_count": 4,
   "id": "7815069a",
   "metadata": {},
   "outputs": [
    {
     "name": "stdout",
     "output_type": "stream",
     "text": [
      "   episode_number  pitch_number           brand_name  \\\n",
      "0               1             1  BluePine Industries   \n",
      "1               1             2        Booz scooters   \n",
      "2               1             3  Heart up my Sleeves   \n",
      "3               2             4           Tagz Foods   \n",
      "4               2             5       Head and Heart   \n",
      "\n",
      "                                            idea  deal  pitcher_ask_amount  \\\n",
      "0                                   Frozen Momos     1                50.0   \n",
      "1  Renting e-bike for mobility in private spaces     1                40.0   \n",
      "2                             Detachable Sleeves     1                25.0   \n",
      "3                           Healthy Potato Chips     1                70.0   \n",
      "4                       Brain Development Course     0                50.0   \n",
      "\n",
      "   ask_equity  ask_valuation  deal_amount  deal_equity  ...  ashneer_deal  \\\n",
      "0         5.0        1000.00         75.0        16.00  ...             1   \n",
      "1        15.0         266.67         40.0        50.00  ...             1   \n",
      "2        10.0         250.00         25.0        30.00  ...             0   \n",
      "3         1.0        7000.00         70.0         2.75  ...             1   \n",
      "4         5.0        1000.00          0.0         0.00  ...             0   \n",
      "\n",
      "   anupam_deal  aman_deal  namita_deal  vineeta_deal  peyush_deal  \\\n",
      "0            0          1            0             1            0   \n",
      "1            0          0            0             1            0   \n",
      "2            1          0            0             1            0   \n",
      "3            0          0            0             0            0   \n",
      "4            0          0            0             0            0   \n",
      "\n",
      "   ghazal_deal  total_sharks_invested  amount_per_shark  equity_per_shark  \n",
      "0            0                      3              25.0          5.333333  \n",
      "1            0                      2              20.0         25.000000  \n",
      "2            0                      2              12.5         15.000000  \n",
      "3            0                      1              70.0          2.750000  \n",
      "4            0                      0               0.0          0.000000  \n",
      "\n",
      "[5 rows x 28 columns]\n",
      "(117, 28)\n",
      "Index(['episode_number', 'pitch_number', 'brand_name', 'idea', 'deal',\n",
      "       'pitcher_ask_amount', 'ask_equity', 'ask_valuation', 'deal_amount',\n",
      "       'deal_equity', 'deal_valuation', 'ashneer_present', 'anupam_present',\n",
      "       'aman_present', 'namita_present', 'vineeta_present', 'peyush_present',\n",
      "       'ghazal_present', 'ashneer_deal', 'anupam_deal', 'aman_deal',\n",
      "       'namita_deal', 'vineeta_deal', 'peyush_deal', 'ghazal_deal',\n",
      "       'total_sharks_invested', 'amount_per_shark', 'equity_per_shark'],\n",
      "      dtype='object')\n"
     ]
    }
   ],
   "source": [
    "print(df.head())\n",
    "print(df.shape)\n",
    "print(df.columns)"
   ]
  },
  {
   "cell_type": "code",
   "execution_count": 5,
   "id": "b986d3d6",
   "metadata": {},
   "outputs": [
    {
     "name": "stdout",
     "output_type": "stream",
     "text": [
      "episode_number           0\n",
      "pitch_number             0\n",
      "brand_name               0\n",
      "idea                     0\n",
      "deal                     0\n",
      "pitcher_ask_amount       0\n",
      "ask_equity               0\n",
      "ask_valuation            0\n",
      "deal_amount              0\n",
      "deal_equity              0\n",
      "deal_valuation           0\n",
      "ashneer_present          0\n",
      "anupam_present           0\n",
      "aman_present             0\n",
      "namita_present           0\n",
      "vineeta_present          0\n",
      "peyush_present           0\n",
      "ghazal_present           0\n",
      "ashneer_deal             0\n",
      "anupam_deal              0\n",
      "aman_deal                0\n",
      "namita_deal              0\n",
      "vineeta_deal             0\n",
      "peyush_deal              0\n",
      "ghazal_deal              0\n",
      "total_sharks_invested    0\n",
      "amount_per_shark         0\n",
      "equity_per_shark         0\n",
      "dtype: int64\n"
     ]
    }
   ],
   "source": [
    "#checking missing values\n",
    "print(df.isnull().sum())"
   ]
  },
  {
   "cell_type": "code",
   "execution_count": 6,
   "id": "8603ae58",
   "metadata": {},
   "outputs": [],
   "source": [
    "#cleaning text columns\n",
    "df['brand_name']=df['brand_name'].astype(str).str.strip().str.title()\n",
    "df['idea']=df['idea'].astype(str).str.strip().str.capitalize()"
   ]
  },
  {
   "cell_type": "code",
   "execution_count": 7,
   "id": "91ee1885",
   "metadata": {},
   "outputs": [
    {
     "name": "stderr",
     "output_type": "stream",
     "text": [
      "<>:9: SyntaxWarning: invalid escape sequence '\\$'\n",
      "<>:9: SyntaxWarning: invalid escape sequence '\\$'\n",
      "C:\\Users\\ACER\\AppData\\Local\\Temp\\ipykernel_816\\1943424732.py:9: SyntaxWarning: invalid escape sequence '\\$'\n",
      "  df[col]=df[col].replace('[\\$,₹,]','', regex=True).replace(',','', regex=True).astype(float)\n"
     ]
    }
   ],
   "source": [
    "#converting numeric columns\n",
    "num_cols = [\n",
    "    'pitcher_ask_amount', 'ask_equity', 'ask_valuation',\n",
    "    'deal_amount', 'deal_equity', 'deal_valuation',\n",
    "    'amount_per_shark', 'equity_per_shark'\n",
    "]\n",
    "\n",
    "for col in num_cols:\n",
    "    df[col]=df[col].replace('[\\$,₹,]','', regex=True).replace(',','', regex=True).astype(float)"
   ]
  },
  {
   "cell_type": "code",
   "execution_count": 8,
   "id": "b07115ce",
   "metadata": {},
   "outputs": [
    {
     "name": "stdout",
     "output_type": "stream",
     "text": [
      "   episode_number  pitch_number           brand_name  \\\n",
      "0               1             1  Bluepine Industries   \n",
      "1               1             2        Booz Scooters   \n",
      "2               1             3  Heart Up My Sleeves   \n",
      "3               2             4           Tagz Foods   \n",
      "4               2             5       Head And Heart   \n",
      "\n",
      "                                            idea  deal  pitcher_ask_amount  \\\n",
      "0                                   Frozen momos     1                50.0   \n",
      "1  Renting e-bike for mobility in private spaces     1                40.0   \n",
      "2                             Detachable sleeves     1                25.0   \n",
      "3                           Healthy potato chips     1                70.0   \n",
      "4                       Brain development course     0                50.0   \n",
      "\n",
      "   ask_equity  ask_valuation  deal_amount  deal_equity  ...  ashneer_deal  \\\n",
      "0         5.0        1000.00         75.0        16.00  ...             1   \n",
      "1        15.0         266.67         40.0        50.00  ...             1   \n",
      "2        10.0         250.00         25.0        30.00  ...             0   \n",
      "3         1.0        7000.00         70.0         2.75  ...             1   \n",
      "4         5.0        1000.00          0.0         0.00  ...             0   \n",
      "\n",
      "   anupam_deal  aman_deal  namita_deal  vineeta_deal  peyush_deal  \\\n",
      "0            0          1            0             1            0   \n",
      "1            0          0            0             1            0   \n",
      "2            1          0            0             1            0   \n",
      "3            0          0            0             0            0   \n",
      "4            0          0            0             0            0   \n",
      "\n",
      "   ghazal_deal  total_sharks_invested  amount_per_shark  equity_per_shark  \n",
      "0            0                      3              25.0          5.333333  \n",
      "1            0                      2              20.0         25.000000  \n",
      "2            0                      2              12.5         15.000000  \n",
      "3            0                      1              70.0          2.750000  \n",
      "4            0                      0               0.0          0.000000  \n",
      "\n",
      "[5 rows x 28 columns]\n"
     ]
    }
   ],
   "source": [
    "#handling missing values\n",
    "df.fillna({\n",
    "    'deal_amount': 0,\n",
    "    'deal_equity': 0,\n",
    "    'deal_valuation': 0,\n",
    "    'ask_valuation': 0,\n",
    "    'ask_equity': 0,\n",
    "    'pitcher_ask_amount': 0,\n",
    "    'amount_per_shark': 0,\n",
    "    'equity_per_shark': 0,\n",
    "    'total_sharks_invested': 0\n",
    "}, inplace=True)\n",
    "print(df.head())\n"
   ]
  },
  {
   "cell_type": "code",
   "execution_count": 9,
   "id": "edc6f5e5",
   "metadata": {},
   "outputs": [
    {
     "name": "stdout",
     "output_type": "stream",
     "text": [
      "   deal_amount  ask_valuation  amount_ask_exceeds\n",
      "0         75.0        1000.00               False\n",
      "1         40.0         266.67               False\n",
      "2         25.0         250.00               False\n",
      "3         70.0        7000.00               False\n",
      "4          0.0        1000.00               False\n"
     ]
    }
   ],
   "source": [
    "# check logic\n",
    "df['amount_ask_exceeds']=df['deal_amount']>df['ask_valuation']\n",
    "df['deal_without_equity']=(df['deal']==1) & (df['deal_equity']==0)\n",
    "\n",
    "print(df[['deal_amount', 'ask_valuation', 'amount_ask_exceeds']].head())"
   ]
  },
  {
   "cell_type": "code",
   "execution_count": 10,
   "id": "6aba0c29",
   "metadata": {},
   "outputs": [
    {
     "name": "stdout",
     "output_type": "stream",
     "text": [
      "     episode_number  pitch_number           brand_name  \\\n",
      "0                 1             1  Bluepine Industries   \n",
      "1                 1             2        Booz Scooters   \n",
      "2                 1             3  Heart Up My Sleeves   \n",
      "3                 2             4           Tagz Foods   \n",
      "4                 2             5       Head And Heart   \n",
      "..              ...           ...                  ...   \n",
      "112              34           113        Green Protein   \n",
      "113              34           114              On2Cook   \n",
      "114              35           115        Jain Shikanji   \n",
      "115              35           116                Woloo   \n",
      "116              35           117         Elcare India   \n",
      "\n",
      "                                              idea  deal  pitcher_ask_amount  \\\n",
      "0                                     Frozen momos     1                50.0   \n",
      "1    Renting e-bike for mobility in private spaces     1                40.0   \n",
      "2                               Detachable sleeves     1                25.0   \n",
      "3                             Healthy potato chips     1                70.0   \n",
      "4                         Brain development course     0                50.0   \n",
      "..                                             ...   ...                 ...   \n",
      "112                            Plant-based protein     0                60.0   \n",
      "113                         Fastest cooking device     0               100.0   \n",
      "114                                       Lemonade     1                40.0   \n",
      "115                                Washroom finder     0                50.0   \n",
      "116                           Carenting for elders     0               100.0   \n",
      "\n",
      "     ask_equity  ask_valuation  deal_amount  deal_equity  ...  namita_deal  \\\n",
      "0           5.0        1000.00         75.0        16.00  ...            0   \n",
      "1          15.0         266.67         40.0        50.00  ...            0   \n",
      "2          10.0         250.00         25.0        30.00  ...            0   \n",
      "3           1.0        7000.00         70.0         2.75  ...            0   \n",
      "4           5.0        1000.00          0.0         0.00  ...            0   \n",
      "..          ...            ...          ...          ...  ...          ...   \n",
      "112         2.0        3000.00          0.0         0.00  ...            0   \n",
      "113         1.0       10000.00          0.0         0.00  ...            0   \n",
      "114         8.0         500.00         40.0        30.00  ...            0   \n",
      "115         4.0        1250.00          0.0         0.00  ...            0   \n",
      "116         2.5        4000.00          0.0         0.00  ...            0   \n",
      "\n",
      "     vineeta_deal  peyush_deal  ghazal_deal  total_sharks_invested  \\\n",
      "0               1            0            0                      3   \n",
      "1               1            0            0                      2   \n",
      "2               1            0            0                      2   \n",
      "3               0            0            0                      1   \n",
      "4               0            0            0                      0   \n",
      "..            ...          ...          ...                    ...   \n",
      "112             0            0            0                      0   \n",
      "113             0            0            0                      0   \n",
      "114             1            0            0                      4   \n",
      "115             0            0            0                      0   \n",
      "116             0            0            0                      0   \n",
      "\n",
      "     amount_per_shark  equity_per_shark  amount_ask_exceeds  \\\n",
      "0                25.0          5.333333               False   \n",
      "1                20.0         25.000000               False   \n",
      "2                12.5         15.000000               False   \n",
      "3                70.0          2.750000               False   \n",
      "4                 0.0          0.000000               False   \n",
      "..                ...               ...                 ...   \n",
      "112               0.0          0.000000               False   \n",
      "113               0.0          0.000000               False   \n",
      "114              10.0          7.500000               False   \n",
      "115               0.0          0.000000               False   \n",
      "116               0.0          0.000000               False   \n",
      "\n",
      "     deal_without_equity  price_per_equity  \n",
      "0                  False          4.687500  \n",
      "1                  False          0.800000  \n",
      "2                  False          0.833333  \n",
      "3                  False         25.454545  \n",
      "4                  False          0.000000  \n",
      "..                   ...               ...  \n",
      "112                False          0.000000  \n",
      "113                False          0.000000  \n",
      "114                False          1.333333  \n",
      "115                False          0.000000  \n",
      "116                False          0.000000  \n",
      "\n",
      "[117 rows x 24 columns]\n"
     ]
    }
   ],
   "source": [
    "df['price_per_equity']=df.apply(lambda x: x['deal_amount']/x['deal_equity'] if x['deal_equity']>0 else 0, axis=1)\n",
    "\n",
    "presence_cols = [\n",
    "    'ashneer_present', 'anupam_present', 'aman_present',\n",
    "    'namita_present', 'vineeta_present', 'peyush_present', 'ghazal_present'\n",
    "]\n",
    "df = df.drop(columns=presence_cols)\n",
    "print(df)"
   ]
  },
  {
   "cell_type": "code",
   "execution_count": 17,
   "id": "6858849b",
   "metadata": {},
   "outputs": [
    {
     "name": "stdout",
     "output_type": "stream",
     "text": [
      "\n",
      "Cleaned dataset saved at: C:/Users/ACER/Desktop/DataAnalyticsProject/SharkTankData/Cleaned_sharkTankData.xlsx\n"
     ]
    }
   ],
   "source": [
    "import openpyxl\n",
    "output_path=(r\"C:/Users/ACER/Desktop/DataAnalyticsProject/SharkTankData/Cleaned_sharkTankData.xlsx\")\n",
    "df.to_excel(output_path, index=False)\n",
    "print(f\"\\nCleaned dataset saved at: {output_path}\")"
   ]
  },
  {
   "cell_type": "code",
   "execution_count": 12,
   "id": "b16a5d26",
   "metadata": {},
   "outputs": [
    {
     "name": "stdout",
     "output_type": "stream",
     "text": [
      "\n",
      "Top 5 most funded startups:\n",
      "           brand_name  deal_amount\n",
      "50      Aas Vidyalaya        150.0\n",
      "36              Annie        105.0\n",
      "12        Revamp Moto        100.0\n",
      "38    The Yarn Bazaar        100.0\n",
      "39  The Renal Project        100.0\n"
     ]
    }
   ],
   "source": [
    "#Top 5 most funded startups\n",
    "print(\"\\nTop 5 most funded startups:\")\n",
    "print(df.sort_values(by='deal_amount', ascending=False)[['brand_name', 'deal_amount']].head())\n"
   ]
  },
  {
   "cell_type": "code",
   "execution_count": 13,
   "id": "bad99fe5",
   "metadata": {},
   "outputs": [
    {
     "name": "stdout",
     "output_type": "stream",
     "text": [
      "\n",
      "Average deal amount: ₹31.98 Lakhs\n"
     ]
    }
   ],
   "source": [
    "#Average deal amount\n",
    "avg_deal = df['deal_amount'].mean()\n",
    "print(f\"\\nAverage deal amount: ₹{avg_deal:.2f} Lakhs\")"
   ]
  },
  {
   "cell_type": "code",
   "execution_count": 14,
   "id": "6e8dc24f",
   "metadata": {},
   "outputs": [
    {
     "name": "stdout",
     "output_type": "stream",
     "text": [
      "\n",
      "Deals by each shark:\n",
      "Ashneer deals: 21\n",
      "Anupam deals: 24\n",
      "Aman deals: 28\n",
      "Namita deals: 22\n",
      "Vineeta deals: 15\n",
      "Peyush deals: 27\n",
      "Ghazal deals: 7\n"
     ]
    }
   ],
   "source": [
    "#Deals by each shark\n",
    "print(\"\\nDeals by each shark:\")\n",
    "shark_cols = ['ashneer_deal', 'anupam_deal', 'aman_deal', 'namita_deal', 'vineeta_deal', 'peyush_deal', 'ghazal_deal']\n",
    "for shark in shark_cols:\n",
    "    print(f\"{shark.replace('_deal', '').capitalize()} deals: {int(df[shark].sum())}\")"
   ]
  },
  {
   "cell_type": "code",
   "execution_count": 15,
   "id": "c34ffe17",
   "metadata": {},
   "outputs": [
    {
     "name": "stdout",
     "output_type": "stream",
     "text": [
      "\n",
      "Top 10 industries (by idea):\n",
      "idea\n",
      "Frozen momos               1\n",
      "Bags                       1\n",
      "Automation solutions       1\n",
      "Ventilated ppe kits        1\n",
      "Coffee products            1\n",
      "Handicrafts                1\n",
      "Automatic cradle           1\n",
      "Perfumes                   1\n",
      "Roasted peanut products    1\n",
      "Portable ecg device        1\n",
      "Name: count, dtype: int64\n"
     ]
    }
   ],
   "source": [
    "#Industry-wise deal count (by idea)\n",
    "print(\"\\nTop 10 industries (by idea):\")\n",
    "print(df['idea'].value_counts().head(10))"
   ]
  },
  {
   "cell_type": "code",
   "execution_count": 16,
   "id": "1e364986",
   "metadata": {},
   "outputs": [
    {
     "name": "stdout",
     "output_type": "stream",
     "text": [
      "\n",
      "Overall Deal Conversion Rate: 55.56%\n"
     ]
    }
   ],
   "source": [
    "#Deal conversion rate\n",
    "deal_conversion = (df['deal'].sum() / len(df)) * 100\n",
    "print(f\"\\nOverall Deal Conversion Rate: {deal_conversion:.2f}%\")"
   ]
  }
 ],
 "metadata": {
  "kernelspec": {
   "display_name": "Python 3",
   "language": "python",
   "name": "python3"
  },
  "language_info": {
   "codemirror_mode": {
    "name": "ipython",
    "version": 3
   },
   "file_extension": ".py",
   "mimetype": "text/x-python",
   "name": "python",
   "nbconvert_exporter": "python",
   "pygments_lexer": "ipython3",
   "version": "3.13.3"
  }
 },
 "nbformat": 4,
 "nbformat_minor": 5
}
